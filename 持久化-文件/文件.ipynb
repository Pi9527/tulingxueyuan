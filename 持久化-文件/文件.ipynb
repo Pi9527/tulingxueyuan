{
 "cells": [
  {
   "cell_type": "markdown",
   "metadata": {
    "collapsed": true
   },
   "source": [
    "# 文件\n",
    "- 长久保存信息的一种数据信息集合\n",
    "- 常用操作\n",
    "\t- 打开关闭(文件一旦打开,需要关闭操作)\n",
    "\t- 读写内容\n",
    "\t- 查找\n",
    "# open函数\n",
    "- open函数负责打开文件,带有很多参数\n",
    "- 第一个参数:必须有,文件的路径和名称\n",
    "- mode\"表明文件用什么方式打开\n",
    "\t- r:以只读方式打开\n",
    "\t- w:写方式打开,会覆盖以前的内容\n",
    "\t- x:创建方式打开,如文件已经存在,报错\n",
    "\t- a:append方式,以追加的方式对文件内容进行写入\n",
    "\t- b:binary方式,二进制方式写入\n",
    "\t- t:文本方式打开\n",
    "\t- +:可读写\n"
   ]
  },
  {
   "cell_type": "code",
   "execution_count": 32,
   "metadata": {},
   "outputs": [
    {
     "name": "stdout",
     "output_type": "stream",
     "text": [
      "F:\\python\\tulingxueyuan\n"
     ]
    }
   ],
   "source": [
    "# 打开文件,用写的方式\n",
    "# r表示后面字符串不需要转义\n",
    "# f称之为文件句柄\n",
    "import os\n",
    "f = open(r\"test11.txt\", 'w')\n",
    "\n",
    "# 文件打开后必须关闭\n",
    "f.close()\n",
    "pwd = os.getcwd()\n",
    "print(pwd)\n",
    "# 此案例说明,以写方式打开文件,默认是如果没有文件,则创建"
   ]
  },
  {
   "cell_type": "markdown",
   "metadata": {},
   "source": [
    "# with语句\n",
    "- with语句使用的技术是一种称为上下文管理协议的技术(ContextManagementProtocal)\n",
    "- 自动判断文件的作用域,自动关闭不在使用的打开的文件句柄"
   ]
  },
  {
   "cell_type": "code",
   "execution_count": 33,
   "metadata": {},
   "outputs": [],
   "source": [
    "# with语句案例\n",
    "with open(r\"test11.txt\", 'r') as f:\n",
    "    pass\n",
    "    # 下面语句块开始对文件f进行操作\n",
    "    # 在本模块中不需要在使用close关闭文件f"
   ]
  },
  {
   "cell_type": "code",
   "execution_count": 39,
   "metadata": {},
   "outputs": [
    {
     "name": "stdout",
     "output_type": "stream",
     "text": [
      "相见时难别亦难\n\n两眼泪汪汪\n\n无敌了\n\n根本无所谓\n"
     ]
    }
   ],
   "source": [
    "# with案例\n",
    "with open(r\"test11.txt\", 'r' , encoding= 'utf-8') as f:\n",
    "    # 按行读取内容\n",
    "    strline = f.readline()\n",
    "    # 此结构保证能够完整读取文件直到结束\n",
    "    while strline:\n",
    "        print(strline)\n",
    "        strline = f.readline()"
   ]
  },
  {
   "cell_type": "code",
   "execution_count": 42,
   "metadata": {
    "collapsed": false
   },
   "outputs": [
    {
     "name": "stdout",
     "output_type": "stream",
     "text": [
      "相见时难别亦难\n\n两眼泪汪汪\n\n无敌了\n\n根本无所谓\n"
     ]
    }
   ],
   "source": [
    "# list能用打开的文件作为参数,把文件内每一行内容作为一个原色\n",
    "with open(r'test11.txt', 'r', encoding='utf-8') as f:\n",
    "    # 以打开的文件f作为参数,创建列表\n",
    "    l = list(f)\n",
    "    for line in l:\n",
    "        print(line)"
   ]
  },
  {
   "cell_type": "code",
   "execution_count": 60,
   "metadata": {},
   "outputs": [
    {
     "name": "stdout",
     "output_type": "stream",
     "text": [
      "相"
     ]
    },
    {
     "name": "stdout",
     "output_type": "stream",
     "text": [
      "见"
     ]
    },
    {
     "name": "stdout",
     "output_type": "stream",
     "text": [
      "时"
     ]
    },
    {
     "name": "stdout",
     "output_type": "stream",
     "text": [
      "难"
     ]
    },
    {
     "name": "stdout",
     "output_type": "stream",
     "text": [
      "别"
     ]
    },
    {
     "name": "stdout",
     "output_type": "stream",
     "text": [
      "亦"
     ]
    },
    {
     "name": "stdout",
     "output_type": "stream",
     "text": [
      "难"
     ]
    },
    {
     "name": "stdout",
     "output_type": "stream",
     "text": [
      "\n"
     ]
    },
    {
     "name": "stdout",
     "output_type": "stream",
     "text": [
      "两"
     ]
    },
    {
     "name": "stdout",
     "output_type": "stream",
     "text": [
      "眼"
     ]
    },
    {
     "name": "stdout",
     "output_type": "stream",
     "text": [
      "泪"
     ]
    },
    {
     "name": "stdout",
     "output_type": "stream",
     "text": [
      "汪"
     ]
    },
    {
     "name": "stdout",
     "output_type": "stream",
     "text": [
      "汪"
     ]
    },
    {
     "name": "stdout",
     "output_type": "stream",
     "text": [
      "\n"
     ]
    },
    {
     "name": "stdout",
     "output_type": "stream",
     "text": [
      "无"
     ]
    },
    {
     "name": "stdout",
     "output_type": "stream",
     "text": [
      "敌"
     ]
    },
    {
     "name": "stdout",
     "output_type": "stream",
     "text": [
      "了"
     ]
    },
    {
     "name": "stdout",
     "output_type": "stream",
     "text": [
      "\n"
     ]
    },
    {
     "name": "stdout",
     "output_type": "stream",
     "text": [
      "根"
     ]
    },
    {
     "name": "stdout",
     "output_type": "stream",
     "text": [
      "本"
     ]
    },
    {
     "name": "stdout",
     "output_type": "stream",
     "text": [
      "无"
     ]
    },
    {
     "name": "stdout",
     "output_type": "stream",
     "text": [
      "所"
     ]
    },
    {
     "name": "stdout",
     "output_type": "stream",
     "text": [
      "谓"
     ]
    }
   ],
   "source": [
    "# read是按字符读取文件内容\n",
    "# 允许输入参数决定读取几个字符,如果没有指定,从当前位置读取结尾\n",
    "# 否则,从当前位置读取指定个数字符\n",
    "import time\n",
    "with open(r\"test11.txt\", 'r', encoding='utf-8') as f:\n",
    "    strChar = f.read(1)\n",
    "    while strChar:\n",
    "        print(strChar, end='')\n",
    "        strChar = f.read(1)\n",
    "        time.sleep(1)\n",
    "        \n",
    "        \n",
    "        "
   ]
  },
  {
   "cell_type": "markdown",
   "metadata": {},
   "source": [
    "# seek(offset, from)\n",
    "- 移动文件的读取位置,也叫读取指针\n",
    "- from的取值范围:\n",
    "\t- 0:从文件头开始偏移\n",
    "\t- 1:从文件当前位置开始偏移\n",
    "\t- 2:从文件末尾开始偏移\n",
    "- 移动的单位是字节(byte)\n",
    "- 一个汉字由若干个字节构成\n",
    "- 返回文件只针对当前位置"
   ]
  },
  {
   "cell_type": "code",
   "execution_count": 62,
   "metadata": {},
   "outputs": [
    {
     "name": "stdout",
     "output_type": "stream",
     "text": [
      "时难别亦难\n两眼泪汪汪\n无敌了\n根本无所谓\n"
     ]
    }
   ],
   "source": [
    "# seek案例\n",
    "# 打开文件后,从第5个字节处开始读取\n",
    "# 打开读写指针在0处,即文件的开头\n",
    "with open(r\"test11.txt\", 'r', encoding='utf-8') as f:\n",
    "    # seek移动单位是字节\n",
    "    f.seek(6, 0)\n",
    "    strChar = f.read()\n",
    "    print(strChar)"
   ]
  },
  {
   "cell_type": "code",
   "execution_count": 63,
   "metadata": {},
   "outputs": [
    {
     "name": "stdout",
     "output_type": "stream",
     "text": [
      "相见时"
     ]
    },
    {
     "name": "stdout",
     "output_type": "stream",
     "text": [
      "难别亦"
     ]
    },
    {
     "name": "stdout",
     "output_type": "stream",
     "text": [
      "难\n两"
     ]
    },
    {
     "name": "stdout",
     "output_type": "stream",
     "text": [
      "眼泪汪"
     ]
    },
    {
     "name": "stdout",
     "output_type": "stream",
     "text": [
      "汪\n无"
     ]
    },
    {
     "name": "stdout",
     "output_type": "stream",
     "text": [
      "敌了\n"
     ]
    },
    {
     "name": "stdout",
     "output_type": "stream",
     "text": [
      "根本无"
     ]
    },
    {
     "name": "stdout",
     "output_type": "stream",
     "text": [
      "所谓"
     ]
    }
   ],
   "source": [
    "# 关于读取文件的联系\n",
    "# 打开文件,三个字符一组读取内容,然后显示在屏幕上\n",
    "# 每读一次,休息一秒钟\n",
    "# 让程序暂停,可以使用time下的sleep函数\n",
    "import time\n",
    "with open(r\"test11.txt\", 'r', encoding='utf-8') as f:\n",
    "    # read参数的单位是字符,可以理解成一个汉字就是一个字符\n",
    "    strChar = f.read(3)\n",
    "    while strChar:\n",
    "        print(strChar, end='')\n",
    "        # sleep参数单位是秒\n",
    "        time.sleep(1)\n",
    "        strChar = f.read(3)"
   ]
  },
  {
   "cell_type": "code",
   "execution_count": 65,
   "metadata": {},
   "outputs": [
    {
     "name": "stdout",
     "output_type": "stream",
     "text": [
      "9\n相见时18\n难别亦26\n难\n两35\n眼泪汪43\n汪\n无51\n敌了\n60\n根本无66\n所谓"
     ]
    }
   ],
   "source": [
    "# tell函数:用来显示文件读写指针的当前位置\n",
    "with open(r\"test11.txt\", 'r', encoding='utf-8') as f:\n",
    "    strChar = f.read(3)\n",
    "    pos = f.tell()\n",
    "    \n",
    "    while strChar:\n",
    "        print(pos)\n",
    "        print(strChar, end='')\n",
    "        strChar = f.read(3)\n",
    "        pos = f.tell()"
   ]
  },
  {
   "cell_type": "markdown",
   "metadata": {},
   "source": [
    "# 文件的写操作-write\n",
    "- write(str):把字符串写入文件\n",
    "- writeline(str):把字符串按行写入文件\n",
    "- 区别:\n",
    "\t- write函数参数只能是字符串\n",
    "\t- writeline参数可以是字符串,也可以是字符序列"
   ]
  },
  {
   "cell_type": "code",
   "execution_count": 67,
   "metadata": {},
   "outputs": [],
   "source": [
    "# write案例\n",
    "# 1.向文件追加一句诗\n",
    "# a代表追加方式打开\n",
    "with open(r\"test11.txt\", 'a', encoding='utf-8') as f:\n",
    "    f.write(\"生活不仅有眼前的苟且, \\n 还有远方的苟且\")\n",
    "# 可以直接写入行,用writelines\n",
    "# writelines表示写入很多行,参数可以是list格式\n",
    "with open(r\"test11.txt\", 'a', encoding='utf-8') as f:\n",
    "    # 注意字符串内含有换行符\n",
    "    f.writelines(\"不晓得为啥\")\n",
    "    f.writelines(\"置手纸与何地\")"
   ]
  },
  {
   "cell_type": "code",
   "execution_count": 68,
   "metadata": {},
   "outputs": [],
   "source": [
    "l = [\"i\", \"love\", \"taozi\"]\n",
    "with open(r\"test11.txt\", 'a', encoding='utf-8') as f:\n",
    "    # 注意字符串内含有换行符\n",
    "    f.writelines(l)\n",
    "  "
   ]
  },
  {
   "cell_type": "markdown",
   "metadata": {},
   "source": [
    "# 持久化 - pickle\n",
    "- 序列化(持久化,落地):把程序运行中的信息保存在磁盘上\n",
    "- 反序列化:序列化的逆过程\n",
    "- pickle: python提供的序列化模块\n",
    "- pickle.dump: 序列化\n",
    "- pickle.load: 反序列化"
   ]
  },
  {
   "cell_type": "code",
   "execution_count": 70,
   "metadata": {},
   "outputs": [],
   "source": [
    "# 序列化案例\n",
    "import pickle\n",
    "age = 19\n",
    "# age = [11, 123, 321, [22,44]]\n",
    "with open(r\"test11.txt\", 'wb') as f:\n",
    "    pickle.dump(age, f)"
   ]
  },
  {
   "cell_type": "code",
   "execution_count": 71,
   "metadata": {},
   "outputs": [
    {
     "name": "stdout",
     "output_type": "stream",
     "text": [
      "19\n"
     ]
    }
   ],
   "source": [
    "# 反序列化案例\n",
    "import pickle\n",
    "with open(r\"test11.txt\", 'rb') as f:\n",
    "   age = pickle.load(f)\n",
    "   print(age)"
   ]
  },
  {
   "cell_type": "markdown",
   "metadata": {},
   "source": [
    "# 持久化 - shelve\n",
    "- 持久化工具\n",
    "- 类似字典,用kv对保存数据,存取方式跟字典也类似\n",
    "- open, close"
   ]
  },
  {
   "cell_type": "code",
   "execution_count": 72,
   "metadata": {},
   "outputs": [],
   "source": [
    "# 使用shelve创建文件并使用\n",
    "import shelve\n",
    "# 打开文件\n",
    "# shv相当于一个字典\n",
    "shv = shelve.open(r'shv.db')\n",
    "shv['one'] = 1\n",
    "shv['two'] = 2\n",
    "shv['three'] = 3\n",
    "shv.close()\n",
    "# 通过以上案例发现,shelve自动创建的不仅仅是一个shv.db文件,还包括其他格式文件"
   ]
  },
  {
   "cell_type": "code",
   "execution_count": 76,
   "metadata": {},
   "outputs": [
    {
     "name": "stdout",
     "output_type": "stream",
     "text": [
      "1\n烦死了\n"
     ]
    }
   ],
   "source": [
    "# shelve读取哪里\n",
    "shv = shelve.open(r'shv.db')\n",
    "try:   \n",
    "    print(shv['one'])\n",
    "    print(shv['treee'])\n",
    "except Exception as e:\n",
    "    print('烦死了')\n",
    "finally:\n",
    "    shv.close()"
   ]
  },
  {
   "cell_type": "markdown",
   "metadata": {},
   "source": [
    "# shelve特性\n",
    "- 不支持多个应用并行写入\n",
    "\t- 为了解决这个问题,open的时候可以使用flag=r\n",
    "- 写回问题\n",
    "\t- shelve默认情况下不会等待持久化对象进行任何修改\n",
    "\t- 解决方法: 强制写回:writeback=True"
   ]
  },
  {
   "cell_type": "code",
   "execution_count": 77,
   "metadata": {},
   "outputs": [
    {
     "name": "stdout",
     "output_type": "stream",
     "text": [
      "1\n"
     ]
    }
   ],
   "source": [
    "# shelve 之只读打开\n",
    "import shelve\n",
    "shv = shelve.open(r'shv.db', flag='r')\n",
    "try:\n",
    "    k1 = shv['one']\n",
    "    print(k1)\n",
    "finally:\n",
    "    shv.close()"
   ]
  },
  {
   "cell_type": "code",
   "execution_count": 78,
   "metadata": {},
   "outputs": [],
   "source": [
    "# shelve使用with管理上下文环境\n"
   ]
  },
  {
   "cell_type": "code",
   "execution_count": null,
   "metadata": {},
   "outputs": [],
   "source": []
  }
 ],
 "metadata": {
  "kernelspec": {
   "display_name": "Python 2",
   "language": "python",
   "name": "python2"
  },
  "language_info": {
   "codemirror_mode": {
    "name": "ipython",
    "version": 2
   },
   "file_extension": ".py",
   "mimetype": "text/x-python",
   "name": "python",
   "nbconvert_exporter": "python",
   "pygments_lexer": "ipython2",
   "version": "2.7.6"
  }
 },
 "nbformat": 4,
 "nbformat_minor": 0
}
