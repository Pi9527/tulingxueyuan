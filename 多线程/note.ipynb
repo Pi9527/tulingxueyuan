{
 "cells": [
  {
   "cell_type": "markdown",
   "metadata": {
    "collapsed": true
   },
   "source": [
    "# 多线程 VS 多进程\n",
    "- 程序:一堆代码以文本形式存入一个文档\n",
    "- 进程:程序运行的一个状态\n",
    "\t- 包含地址空间,内存,数据栈等\n",
    "\t- 每个进程有自己完全独立的运行环境,多进程共享数据是一个问题\n",
    "- 线程\n",
    "\t- 一个进程的独立运行片段,一个进程可以有多个线程\n",
    "\t- 轻量化的进程\n",
    "\t- 一个进程的多个线程间共享数据和上下文运行环境\n",
    "\t- 共享互斥问题\n",
    "- 全局解释器锁(GIL)\n",
    "\t- Python代码的执行是由Python虚拟机进行控制\n",
    "\t- 在主循环中只能够有一个控制线程在执行\n",
    "- Python包\n",
    "\t- thread:有问题,不好用,Python3改成了_thread\n",
    "\t\t- 下列案例1与案例2\n",
    "\t- .threading:通行的包\n",
    "- threading的使用\n",
    "\t- 直接利用threading.Thread生成Thread实例\n",
    "\t\t1. t = threading.Thread(target=xxx, arg=(xxx,))\n",
    "\t\t2. t.start():启动多线程\n",
    "\t\t3. t.join(): 等待多线程执行完成\n",
    "\t\t3. 案例3"
   ]
  },
  {
   "cell_type": "code",
   "execution_count": null,
   "metadata": {},
   "outputs": [
    {
     "name": "stdout",
     "output_type": "stream",
     "text": [
      "Starting at: Mon Nov  5 23:25:50 2018\nStart loop 1 at: Mon Nov  5 23:25:50 2018\n"
     ]
    },
    {
     "name": "stdout",
     "output_type": "stream",
     "text": [
      "End loop 1 at: Mon Nov  5 23:25:54 2018\nStart loop 2 at: Mon Nov  5 23:25:54 2018\n"
     ]
    },
    {
     "name": "stdout",
     "output_type": "stream",
     "text": [
      "End loop 2 at: Mon Nov  5 23:25:56 2018\nEnding at: Mon Nov  5 23:25:56 2018\n"
     ]
    }
   ],
   "source": [
    "# 案例1,无多线程,较慢\n",
    "import time\n",
    "def loop1():\n",
    "    print('Start loop 1 at:', time.ctime())\n",
    "    time.sleep(4)\n",
    "    print('End loop 1 at:', time.ctime())\n",
    "def loop2():\n",
    "    print('Start loop 2 at:', time.ctime())\n",
    "    time.sleep(2)\n",
    "    print('End loop 2 at:', time.ctime())\n",
    "def main():\n",
    "    print('All starting at:', time.ctime())\n",
    "    loop1()\n",
    "    loop2()\n",
    "    print('All ending at:', time.ctime())\n",
    "if __name__ == '__main__':\n",
    "    main()\n",
    "    "
   ]
  },
  {
   "cell_type": "code",
   "execution_count": 1,
   "metadata": {},
   "outputs": [
    {
     "name": "stdout",
     "output_type": "stream",
     "text": [
      "All starting at: Tue Nov  6 14:30:50 2018\nAll ending at: Tue Nov  6 14:30:50 2018\n"
     ]
    },
    {
     "name": "stdout",
     "output_type": "stream",
     "text": [
      "Start loop 1 at: Tue Nov  6 14:30:50 2018\nStart loop 2 at: Tue Nov  6 14:30:50 2018\n"
     ]
    }
   ],
   "source": [
    "# 案例2\n",
    "import time\n",
    "import _thread as thread\n",
    "def loop1():\n",
    "    print('Start loop 1 at:', time.ctime())\n",
    "    time.sleep(4)\n",
    "    print('End loop 1 at:', time.ctime())\n",
    "def loop2():\n",
    "    print('Start loop 2 at:', time.ctime())\n",
    "    time.sleep(2)\n",
    "    print('End loop 2 at:', time.ctime())\n",
    "def main():\n",
    "    print('All starting at:', time.ctime())\n",
    "    # 启动多线程的意思是用多线程去执行某个函数\n",
    "    # 启动多线程的函数为start_new_thread\n",
    "    # 参数两个,一个需要运行的函数名,第二是函数的参数作为元祖使用,为空则使用空元祖\n",
    "    # 注意:如果函数只有一个参数,需要参数后有一个逗号\n",
    "    thread.start_new_thread(loop1,())\n",
    "    thread.start_new_thread(loop2,())\n",
    "    print('All ending at:', time.ctime())\n",
    "if __name__ == '__main__':\n",
    "    main()\n",
    "    "
   ]
  },
  {
   "cell_type": "code",
   "execution_count": null,
   "metadata": {},
   "outputs": [],
   "source": [
    ""
   ]
  }
 ],
 "metadata": {
  "kernelspec": {
   "display_name": "Python 2",
   "language": "python",
   "name": "python2"
  },
  "language_info": {
   "codemirror_mode": {
    "name": "ipython",
    "version": 2
   },
   "file_extension": ".py",
   "mimetype": "text/x-python",
   "name": "python",
   "nbconvert_exporter": "python",
   "pygments_lexer": "ipython2",
   "version": "2.7.6"
  }
 },
 "nbformat": 4,
 "nbformat_minor": 0
}
