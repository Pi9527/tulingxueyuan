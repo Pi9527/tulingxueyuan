{
 "cells": [
  {
   "cell_type": "markdown",
   "metadata": {
    "collapsed": true
   },
   "source": [
    "# log\n",
    "- logging\n",
    "- logging模块提供模块级别的函数记录日志\n",
    "- 包括四大组件"
   ]
  },
  {
   "cell_type": "markdown",
   "metadata": {},
   "source": [
    "## 日志相关概念\n",
    "- 日志\n",
    "- 日志的级别(level)\n",
    "\t- 不同的用户关注不同的程序信息\n",
    "- IO操作 => 不要太频繁\n",
    "- LOG的作用\n",
    "\t- 调试\n",
    "\t- 了解软件的运行情况\n",
    "\t- 分析定位问题\n",
    "- 日志信息\n",
    "\t- time\n",
    "\t- 地点\n",
    "\t- level\n",
    "\t- 内容\n",
    "- 成熟的第三方日志\n",
    "\t- log4j\n",
    "\t- log4php\n",
    "\t- logging\n"
   ]
  },
  {
   "cell_type": "markdown",
   "metadata": {},
   "source": [
    "# Logging模块\n",
    "- 日志级别\n",
    "\t- 级别可自定义\n",
    "- 初始化/写日志实例需要指定级别, 只有当级别等于或高于指定级别才被记录\n",
    "- 使用方式\n",
    "\t- 直接使用logging(封装了其他组件)\n",
    "\t- Logging四大组件直接定制\n"
   ]
  },
  {
   "cell_type": "markdown",
   "metadata": {},
   "source": [
    "# logging模块级别的日志\n",
    "- 使用以下几个函数\t\n",
    "\t- logging.debug(msg, *args, **kwargs)\t   创建一条严重级别为DEBUG的日志记录\n",
    "\t- logging.info(msg, *args, **kwargs)\t    创建一条严重级别为INFO的日志记录\n",
    "\t- logging.warning(msg, *args, **kwargs)\t 创建一条严重级别为WARNING的日志记录\n",
    "\t- logging.error(msg, *args, **kwargs)\t   创建一条严重级别为ERROR的日志记录\n",
    "\t- logging.critical(msg, *args, **kwargs)\t创建一条严重级别为CRITICAL的日志记录\n",
    "\t- logging.log(level, *args, **kwargs)\t   创建一条严重级别为level的日志记录\n",
    "\t- logging.basicConfig(**kwargs)\t         对root logger进行一次性配置\n",
    "- logging.basicConfig(**kwargs)\t对root logger进行一次性配置\n",
    "\t- 只在第一次调用的时候起作用\n",
    "\t- 不配置logger则使用默认值\n",
    "\t\t- 输出: sys.stderr\n",
    "\t\t- 级别: WARNING\n",
    "\t\t- 格式: level:log_name:content"
   ]
  },
  {
   "cell_type": "code",
   "execution_count": 3,
   "metadata": {
    "collapsed": true
   },
   "outputs": [],
   "source": [
    "import logging\n",
    "logging.basicConfig(filename='tulingxueyuan.txt', level=logging.DEBUG)\n",
    "\n",
    "logging.debug(\"This is a debug log.\")\n",
    "logging.info(\"This is a info log.\")\n",
    "logging.warning(\"This is a warning log.\")\n",
    "logging.error(\"This is a error log.\")\n",
    "logging.critical(\"This is a critical log.\")\n",
    "# 另一种写法\n",
    "# logging.log(logging.DEBUG, \"This is a debug log.\")\n",
    "# logging.log(logging.INFO, \"This is a info log.\")\n",
    "# logging.log(logging.WARNING, \"This is a warning log.\")\n",
    "# logging.log(logging.ERROR, \"This is a error log.\")\n",
    "# logging.log(logging.CRITICAL, \"This is a critical log.\")"
   ]
  },
  {
   "cell_type": "markdown",
   "metadata": {},
   "source": [
    "# logging模块的处理流程\n",
    "- 四大组件\n",
    "\t- 日志器(logger):产生日志的一个接口\n",
    "\t- 处理器(handler):把产生的日志发送到相应的目的地\n",
    "\t- 过滤器(filter):更精细的控制哪些日志输出\n",
    "\t- 格式器(formatter):对输出信息进行格式化\n",
    "- Logger\n",
    "\t- 产生一个日志\n",
    "\t- 操作\n",
    "\t\tlogger.setLevel()\t设置日志器将会处理的日志消息的最低严重级别\n",
    "\t\tlogger.addHandler() 和 logger.removeHandler()   为该logger对象添加 和 移除一个Handler()\n",
    "\t\tlogger.addFilter() 和 logger.removeFilter()  为该logger对象添加 和 移除一个filter()\n",
    "\t\tlogger.debug: 产生一条debug级别的日志,同理,info,error...等\n",
    "\t\tlogger.exception(): 创建类似于logger.error的日志消息\n",
    "\t\tlogger.log():  获取一个明确的日志level参数类创建一个日志记录\n",
    "\t- 如何得到一个logger对象\n",
    "\t\t- 实例化\n",
    "\t\t- logging.getLogger()\n",
    "- Handler\n",
    "\t- 把log发送到指定位置\n",
    "\t- 方法\n",
    "\t\t- setLevel\n",
    "\t\t- setFormat\n",
    "\t\t- addFilter, removeFilter\n",
    "\t- 不需要直接使用,Handler是基类\n",
    "\t\t\t\tHandler\t\t\t描述\n",
    "\t\tlogging.StreamHandler\t\t\t将日志消息发送到输出到Stream，如std.out, std.err或任何file-like对象。\n",
    "\t\tlogging.FileHandler\t\t\t将日志消息发送到磁盘文件，默认情况下文件大小会无限增长\n",
    "\t\tlogging.handlers.RotatingFileHandler\t将日志消息发送到磁盘文件，并支持日志文件按大小切割\n",
    "\t\tlogging.hanlders.TimedRotatingFileHandler\t将日志消息发送到磁盘文件，并支持日志文件按时间切割\n",
    "\t\tlogging.handlers.HTTPHandler\t\t将日志消息以GET或POST的方式发送给一个HTTP服务器\n",
    "\t\tlogging.handlers.SMTPHandler\t\t将日志消息发送给一个指定的email地址\n",
    "\t\tlogging.NullHandler\t该Handler实例会忽略error messages，通常被想使用logging的library开发者使用来避免'No handlers could be found for logger XXX'信息的出现。\n",
    "- Format类\n",
    "\t- 直接实例化\n",
    "\t- 可以继承Format添加特殊内容\n",
    "\t- 三个参数\n",
    "\t\tfmt：指定消息格式化字符串，如果不指定该参数则默认使用message的原始值\n",
    "\t\tdatefmt：指定日期格式字符串，如果不指定该参数则默认使用\"%Y-%m-%d %H:%M:%S\"\n",
    "\t\tstyle：Python 3.2新增的参数，可取值为 '%', '{'和 '$'，如果不指定该参数则默认使用'%'\n",
    "- Filter类\n",
    "\t- 可以被Handler和logger使用\n",
    "\t- 控制传递过来的信息的具体内容"
   ]
  },
  {
   "cell_type": "code",
   "execution_count": 15,
   "metadata": {},
   "outputs": [],
   "source": [
    "# 1. 需求\n",
    "# 现在有以下几个日志记录的需求：\n",
    "#     1）要求将所有级别的所有日志都写入磁盘文件中\n",
    "#     2）all.log文件中记录所有的日志信息，日志格式为：日期和时间 - 日志级别 - 日志信息\n",
    "#     3）error.log文件中单独记录error及以上级别的日志信息，日志格式为：日期和时间 - 日志级别 - 文件名[:行号] - 日志信息\n",
    "#     4）要求all.log在每天凌晨进行日志切割\n",
    "\n",
    "# 2. 分析\n",
    "#     1）要记录所有级别的日志，因此日志器的有效level需要设置为最低级别--DEBUG;\n",
    "#     2）日志需要被发送到两个不同的目的地，因此需要为日志器设置两个handler；另外，两个目的地都是磁盘文件，因此这两个handler都是与FileHandler相关的；\n",
    "#     3）all.log要求按照时间进行日志切割，因此他需要用logging.handlers.TimedRotatingFileHandler; 而error.log没有要求日志切割，因此可以使用FileHandler;\n",
    "#     4）两个日志文件的格式不同，因此需要对这两个handler分别设置格式器；"
   ]
  },
  {
   "cell_type": "code",
   "execution_count": 10,
   "metadata": {},
   "outputs": [],
   "source": []
  },
  {
   "cell_type": "code",
   "execution_count": null,
   "metadata": {},
   "outputs": [],
   "source": []
  }
 ],
 "metadata": {
  "kernelspec": {
   "display_name": "Python 2",
   "language": "python",
   "name": "python2"
  },
  "language_info": {
   "codemirror_mode": {
    "name": "ipython",
    "version": 2
   },
   "file_extension": ".py",
   "mimetype": "text/x-python",
   "name": "python",
   "nbconvert_exporter": "python",
   "pygments_lexer": "ipython2",
   "version": "2.7.6"
  }
 },
 "nbformat": 4,
 "nbformat_minor": 0
}
