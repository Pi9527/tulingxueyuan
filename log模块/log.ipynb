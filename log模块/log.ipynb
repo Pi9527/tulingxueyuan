{
 "cells": [
  {
   "cell_type": "markdown",
   "metadata": {
    "collapsed": true
   },
   "source": [
    "# log\n",
    "- logging\n",
    "- logging模块提供模块级别的函数记录日志\n",
    "- 包括四大组件"
   ]
  },
  {
   "cell_type": "markdown",
   "metadata": {},
   "source": [
    "## 日志相关概念\n",
    "- 日志\n",
    "- 日志的级别(level)\n",
    "\t- 不同的用户关注不同的程序信息\n",
    "- IO操作 => 不要太频繁\n",
    "- LOG的作用\n",
    "\t- 调试\n",
    "\t- 了解软件的运行情况\n",
    "\t- 分析定位问题\n",
    "- 日志信息\n",
    "\t- time\n",
    "\t- 地点\n",
    "\t- level\n",
    "\t- 内容\n",
    "- 成熟的第三方日志\n",
    "\t- log4j\n",
    "\t- log4php\n",
    "\t- logging\n"
   ]
  },
  {
   "cell_type": "markdown",
   "metadata": {},
   "source": [
    "# Logging模块\n",
    "- 日志级别\n",
    "\t- 级别可自定义\n",
    "- 初始化/写日志实例需要指定级别, 只有当级别等于或高于指定级别才被记录\n",
    "- 使用方式\n",
    "\t- 直接使用logging(封装了其他组件)\n",
    "\t- Logging四大组件直接定制\n"
   ]
  },
  {
   "cell_type": "markdown",
   "metadata": {},
   "source": []
  }
 ],
 "metadata": {
  "kernelspec": {
   "display_name": "Python 2",
   "language": "python",
   "name": "python2"
  },
  "language_info": {
   "codemirror_mode": {
    "name": "ipython",
    "version": 2
   },
   "file_extension": ".py",
   "mimetype": "text/x-python",
   "name": "python",
   "nbconvert_exporter": "python",
   "pygments_lexer": "ipython2",
   "version": "2.7.6"
  }
 },
 "nbformat": 4,
 "nbformat_minor": 0
}
